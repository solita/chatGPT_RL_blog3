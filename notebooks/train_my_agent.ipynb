{
 "cells": [
  {
   "cell_type": "code",
   "execution_count": 1,
   "metadata": {},
   "outputs": [],
   "source": [
    "# import libraries\n",
    "import warnings\n",
    "import numpy as np\n",
    "\n",
    "import time\n",
    "import matplotlib.pyplot as plt\n",
    "\n",
    "# Let's do a relative import\n",
    "import sys\n",
    "import os\n",
    "\n",
    "SCRIPT_DIR = os.path.dirname(os.path.abspath('../src_JokkeRuokolainen/*/'))\n",
    "sys.path.append(os.path.dirname(SCRIPT_DIR))\n",
    "\n",
    "from src_JokkeRuokolainen.environment_JokkeRuokolainen import CabDriver\n",
    "from src_JokkeRuokolainen.agent_JokkeRuokolainen import DuelingQAgent\n",
    "np.set_printoptions(threshold=sys.maxsize)\n",
    "warnings.filterwarnings(\"ignore\")\n"
   ]
  },
  {
   "attachments": {},
   "cell_type": "markdown",
   "metadata": {},
   "source": [
    "### Define taxi pickup time matrix"
   ]
  },
  {
   "cell_type": "code",
   "execution_count": 2,
   "metadata": {},
   "outputs": [
    {
     "name": "stdout",
     "output_type": "stream",
     "text": [
      "(5, 5, 24, 7)\n",
      "6.0\n"
     ]
    }
   ],
   "source": [
    "# Loading the time matrix provided\n",
    "Time_matrix = np.load(\"../Data/Inputs/TM.npy\")\n",
    "print(Time_matrix.shape)\n",
    "print(Time_matrix[3][4][17][5])\n",
    "# Example: (Returns Time Taken) 𝑇𝑖𝑚𝑒−𝑚𝑎𝑡𝑟𝑖𝑥[𝑠𝑡𝑎𝑟𝑡−𝑙𝑜𝑐][𝑒𝑛𝑑−𝑙𝑜𝑐][ℎ𝑜𝑢𝑟−𝑜𝑓−𝑡ℎ𝑒−𝑑𝑎𝑦] [𝑑𝑎𝑦−𝑜𝑓−𝑡ℎ𝑒−𝑤𝑒𝑒𝑘]\n"
   ]
  },
  {
   "attachments": {},
   "cell_type": "markdown",
   "metadata": {},
   "source": [
    "### Initialize environment"
   ]
  },
  {
   "cell_type": "code",
   "execution_count": 3,
   "metadata": {},
   "outputs": [
    {
     "name": "stdout",
     "output_type": "stream",
     "text": [
      "Action List (action_indices, action):\n"
     ]
    },
    {
     "data": {
      "text/plain": [
       "[(0, [0, 0]),\n",
       " (1, [0, 0]),\n",
       " (2, [0, 1]),\n",
       " (3, [0, 2]),\n",
       " (4, [0, 3]),\n",
       " (5, [0, 4]),\n",
       " (6, [1, 0]),\n",
       " (7, [1, 2]),\n",
       " (8, [1, 3]),\n",
       " (9, [1, 4]),\n",
       " (10, [2, 0]),\n",
       " (11, [2, 1]),\n",
       " (12, [2, 3]),\n",
       " (13, [2, 4]),\n",
       " (14, [3, 0]),\n",
       " (15, [3, 1]),\n",
       " (16, [3, 2]),\n",
       " (17, [3, 4]),\n",
       " (18, [4, 0]),\n",
       " (19, [4, 1]),\n",
       " (20, [4, 2]),\n",
       " (21, [4, 3])]"
      ]
     },
     "execution_count": 3,
     "metadata": {},
     "output_type": "execute_result"
    }
   ],
   "source": [
    "# Creating tuples of action_index and actions from action_space\n",
    "env = CabDriver()\n",
    "cab_action_space = env.action_space\n",
    "cab_action_indices = [i for i in range(len(cab_action_space))]\n",
    "action_list = [\n",
    "    i for i in zip(cab_action_indices, cab_action_space)\n",
    "]  # tuples (action_indices, action)\n",
    "print(\"Action List (action_indices, action):\")\n",
    "action_list\n"
   ]
  },
  {
   "cell_type": "code",
   "execution_count": 4,
   "metadata": {},
   "outputs": [
    {
     "name": "stdout",
     "output_type": "stream",
     "text": [
      "Minimimum time taken: 0.0\n",
      "Maximum time taken: 11.0\n",
      "Average time taken: 3.0542857142857143\n"
     ]
    }
   ],
   "source": [
    "# Understanding the min and max time duration of trips from one point to another\n",
    "\n",
    "print(\"Minimimum time taken:\", Time_matrix.min())\n",
    "print(\"Maximum time taken:\", Time_matrix.max())\n",
    "print(\"Average time taken:\", Time_matrix.mean())\n"
   ]
  },
  {
   "attachments": {},
   "cell_type": "markdown",
   "metadata": {},
   "source": [
    "The maximum time taken is 11 hours. \n",
    "\n",
    "So, it is safe to say that the maximum time taken by the cab driver to move from one point to another is less than 1 day.\n",
    "\n",
    "### Initialize tracking of state-action pairs during training"
   ]
  },
  {
   "cell_type": "code",
   "execution_count": 5,
   "metadata": {},
   "outputs": [],
   "source": [
    "import collections\n",
    "states_track = collections.defaultdict(dict)\n",
    "\n",
    "\n",
    "def initialize_tracking_states():\n",
    "    sample_q_values = [\n",
    "        ((3, 0, 2), (3, 1)),\n",
    "        ((1, 6, 3), (2, 3)),\n",
    "        ((2, 2, 2), (3, 2)),\n",
    "        ((3, 10, 6), (3, 4)),\n",
    "        ((0, 20, 3), (1, 4)),\n",
    "        ((1, 23, 3), (1, 4)),\n",
    "    ]\n",
    "    for state, action in sample_q_values:\n",
    "        states_track[state][action] = []\n",
    "\n",
    "\n",
    "initialize_tracking_states()\n"
   ]
  },
  {
   "cell_type": "code",
   "execution_count": 6,
   "metadata": {},
   "outputs": [
    {
     "name": "stdout",
     "output_type": "stream",
     "text": [
      "Random State Initialization:\n",
      "[0, 17, 5]\n",
      "[0, 14, 6]\n",
      "[2, 12, 4]\n",
      "[2, 8, 0]\n",
      "[0, 22, 3]\n"
     ]
    }
   ],
   "source": [
    "# Check Random State\n",
    "\n",
    "print(\"Random State Initialization:\")\n",
    "for i in range(5):  # Checking for 5 episodes\n",
    "    env = CabDriver()\n",
    "    random_state_init = env.state_init\n",
    "    print(random_state_init)\n"
   ]
  },
  {
   "cell_type": "code",
   "execution_count": 7,
   "metadata": {},
   "outputs": [
    {
     "name": "stdout",
     "output_type": "stream",
     "text": [
      "action_size: 22\n"
     ]
    }
   ],
   "source": [
    "# Understanding action_size\n",
    "action_size = len(env.action_space)\n",
    "print(\"action_size:\", action_size)\n"
   ]
  },
  {
   "cell_type": "code",
   "execution_count": 8,
   "metadata": {},
   "outputs": [],
   "source": [
    "def save_tracking_states():\n",
    "    state_encod = np.array([env.convert_state_to_vector(state)\n",
    "                           for state in states_track.keys()])\n",
    "    state_encod = np.reshape(state_encod, [-1, agent.state_size])\n",
    "    predictions = agent.model.predict(state_encod, verbose=0)\n",
    "\n",
    "    for (state, actions), prediction in zip(states_track.items(), predictions):\n",
    "        for action in actions:\n",
    "            action_index = env.action_space.index(list(action))\n",
    "            Q = prediction[action_index]\n",
    "            states_track[state][action].append(Q)\n"
   ]
  },
  {
   "cell_type": "code",
   "execution_count": 9,
   "metadata": {},
   "outputs": [],
   "source": [
    "import pickle\n",
    "# Defining a function to save the Q-dictionary as a pickle file\n",
    "\n",
    "\n",
    "def save_obj(obj, name):\n",
    "    with open(name + \".pkl\", \"wb\") as f:\n",
    "        pickle.dump(obj, f, pickle.HIGHEST_PROTOCOL)\n"
   ]
  },
  {
   "attachments": {},
   "cell_type": "markdown",
   "metadata": {},
   "source": [
    "### Reset environment and initialize DDQN Agent class"
   ]
  },
  {
   "cell_type": "code",
   "execution_count": 10,
   "metadata": {},
   "outputs": [
    {
     "name": "stdout",
     "output_type": "stream",
     "text": [
      "Metal device set to: Apple M1\n",
      "\n",
      "systemMemory: 16.00 GB\n",
      "maxCacheSize: 5.33 GB\n",
      "\n"
     ]
    }
   ],
   "source": [
    "episode_time = 24 * 30  # 24 hrs for 30 days per episode\n",
    "Episodes = 1  # No. of Episodes\n",
    "m = 5  # No. Locations\n",
    "t = 24  # No. of hrs in a day\n",
    "d = 7  # No. of days in a week\n",
    "\n",
    "# Invoke Env class\n",
    "# env = CabDriver()\n",
    "# Reset environment\n",
    "action_space, state_space, state = env.reset()\n",
    "\n",
    "# Set up state and action sizes.\n",
    "state_size = m + t + d  # Network uses state as input\n",
    "action_size = len(action_space)\n",
    "\n",
    "# Invoke agent class\n",
    "agent = DuelingQAgent(action_size=action_size, state_size=state_size)\n",
    "\n",
    "# to store rewards in each episode\n",
    "rewards_per_episode, episodes = [], []\n",
    "# Rewards for state\n",
    "rewards_init_state = []\n"
   ]
  },
  {
   "attachments": {},
   "cell_type": "markdown",
   "metadata": {},
   "source": [
    "### Train model"
   ]
  },
  {
   "cell_type": "code",
   "execution_count": 11,
   "metadata": {},
   "outputs": [],
   "source": [
    "def exponential_decay(initial_epsilon, decay_rate, episode):\n",
    "    return initial_epsilon * np.exp(-decay_rate * episode)\n"
   ]
  },
  {
   "cell_type": "code",
   "execution_count": 12,
   "metadata": {},
   "outputs": [],
   "source": [
    "def inverse_time_decay(initial_epsilon, decay_rate, episode):\n",
    "    return initial_epsilon / (1 + decay_rate * episode)\n"
   ]
  },
  {
   "cell_type": "code",
   "execution_count": 13,
   "metadata": {},
   "outputs": [
    {
     "name": "stderr",
     "output_type": "stream",
     "text": [
      "2023-01-20 10:24:37.845387: W tensorflow/core/platform/profile_utils/cpu_utils.cc:128] Failed to get CPU frequency: 0 Hz\n"
     ]
    },
    {
     "name": "stdout",
     "output_type": "stream",
     "text": [
      "episode: 0   score: -230.0   memory length: 129   epsilon: 129.69999999999973\n",
      "Saving Model 0\n",
      "Saving Model 0 Weights\n",
      "146.95139718055725\n"
     ]
    }
   ],
   "source": [
    "start_time = time.time()\n",
    "# tracking average reward per episode = total rewards in an episode/ total steps in an episode\n",
    "avg_reward = []\n",
    "\n",
    "# tracking total rewards per episode\n",
    "total_reward = []\n",
    "\n",
    "for episode in range(0, Episodes):\n",
    "\n",
    "    # tracking total rewards, step count\n",
    "    tot_reward = 0\n",
    "    step_count = 0\n",
    "    terminal_state = False\n",
    "    total_time = 0  # Total time driver rode in this episode\n",
    "\n",
    "    # Reset at the start of each episode\n",
    "    env = CabDriver()\n",
    "    action_space, state_space, state = env.reset()\n",
    "    # State Initialization\n",
    "    initial_state = state\n",
    "\n",
    "    while not terminal_state:\n",
    "        # 1. Pick epsilon-greedy action from possible actions for the current state.\n",
    "        # Get a list of the ride requests driver got.\n",
    "        possible_actions_index, actions = env.requests(state)\n",
    "        action = agent.get_action(state, possible_actions_index)\n",
    "        if agent.epsilon > agent.epsilon_min:\n",
    "            agent.epsilon = agent.inverse_time_decay(1.0, agent.epsilon_decay, step_count)\n",
    "        # 2. Evaluate your reward and next state\n",
    "        next_state, reward, step_time, terminal_state = env.step(\n",
    "            state, env.action_space[action], Time_matrix\n",
    "        )\n",
    "        # 3. Total time driver rode in this episode\n",
    "        total_time += step_time\n",
    "        if total_time > episode_time:\n",
    "            # The cab driver accepts the last ride prior to the end of total time limit (720 hours).\n",
    "            # So the last trip begins before the end of 720 hrs but the total time of episode might cross 720 hrs.\n",
    "            terminal_state = True\n",
    "        else:\n",
    "            # 4. Append the experience to the memory\n",
    "            agent.append_sample(state, action, reward,\n",
    "                                next_state, terminal_state)\n",
    "            # Note: Here action is action index\n",
    "            # 5. Train the model by calling function agent.train_model\n",
    "            agent.train_model()\n",
    "            # 6. Update current state\n",
    "            state = next_state\n",
    "            tot_reward += reward\n",
    "            step_count += 1\n",
    "\n",
    "        # 7. Keep a track of rewards, Q-values, loss, etc.\n",
    "        # (Note: Loss were tracking is the model loss='mse')\n",
    "        if terminal_state and episode % 25 == 0:\n",
    "            agent.update_target_model()\n",
    "            avg_reward.append(tot_reward / step_count)\n",
    "            total_reward.append(tot_reward)\n",
    "            print(\n",
    "                \"episode:\",\n",
    "                episode,\n",
    "                \"  score:\",\n",
    "                tot_reward,\n",
    "                \"  memory length:\",\n",
    "                len(agent.memory),\n",
    "                \"  epsilon:\",\n",
    "                agent.epsilon,\n",
    "            )\n",
    "\n",
    "    # Store 'agent_model' every 200th episode\n",
    "    if episode % 200 == 0:\n",
    "        agent.save(\"../Data/Outputs/DuelingDQN/cab_driver.h5\")\n",
    "\n",
    "    # Every 25th episode\n",
    "    if episode % 25 == 0:\n",
    "        save_obj(avg_reward, \"Rewards\")\n",
    "        save_tracking_states()\n",
    "        save_obj(states_track, \"States_tracked\")\n",
    "    # Every 10000th episodes\n",
    "    if episode % 10000 == 0 and episode != 0:\n",
    "        plt.plot(list(range(len(avg_reward))), avg_reward)\n",
    "        plt.show()\n",
    "    # Saving the 'DDQN_model' and 'model_weights' every 1000th episode.\n",
    "    if episode % 1000 == 0:\n",
    "        print(\"Saving Model {}\".format(episode))\n",
    "        # Saves DQN model in Keras H5 format\n",
    "        agent.save(name=\"../Data/Outputs/DuelingDQN/model.h5\")\n",
    "        print(\"Saving Model {} Weights\".format(episode))\n",
    "        agent.save_weights_numpy(\n",
    "            name=\"../Data/Outputs/DuelingDQN/model_weights.pkl\"\n",
    "        )  # Saves model_weights in pkl file\n",
    "        # (model_weights pickle file has a list of numpy arrays)\n",
    "\n",
    "elapsed_time = time.time() - start_time\n",
    "print(elapsed_time)\n"
   ]
  },
  {
   "attachments": {},
   "cell_type": "markdown",
   "metadata": {},
   "source": [
    "### Plot convergence and tracked states"
   ]
  },
  {
   "cell_type": "code",
   "execution_count": 14,
   "metadata": {},
   "outputs": [
    {
     "data": {
      "image/png": "[encoded data removed]",
      "text/plain": [
       "<Figure size 640x480 with 1 Axes>"
      ]
     },
     "metadata": {},
     "output_type": "display_data"
    }
   ],
   "source": [
    "# Plotting average rewards\n",
    "# x-values = 40000 episodes tracked after every 25th episode\n",
    "plt.plot(list(range(len(avg_reward))), avg_reward)\n",
    "plt.ylabel(\"Average Reward\")\n",
    "plt.show()\n"
   ]
  },
  {
   "cell_type": "code",
   "execution_count": 15,
   "metadata": {},
   "outputs": [
    {
     "data": {
      "image/png": "[encoded data removed]",
      "text/plain": [
       "<Figure size 640x480 with 1 Axes>"
      ]
     },
     "metadata": {},
     "output_type": "display_data"
    }
   ],
   "source": [
    "# Plotting total rewards\n",
    "plt.plot(list(range(len(total_reward))), total_reward)\n",
    "plt.ylabel(\"Total reward\")\n",
    "plt.show()\n"
   ]
  },
  {
   "cell_type": "code",
   "execution_count": 16,
   "metadata": {},
   "outputs": [
    {
     "ename": "ValueError",
     "evalue": "num must be 1 <= num <= 8, not 9",
     "output_type": "error",
     "traceback": [
      "\u001b[0;31m---------------------------------------------------------------------------\u001b[0m",
      "\u001b[0;31mValueError\u001b[0m                                Traceback (most recent call last)",
      "Cell \u001b[0;32mIn [16], line 7\u001b[0m\n\u001b[1;32m      4\u001b[0m \u001b[39mfor\u001b[39;00m i, (state, actions) \u001b[39min\u001b[39;00m \u001b[39menumerate\u001b[39m(states_track\u001b[39m.\u001b[39mitems()):\n\u001b[1;32m      5\u001b[0m     \u001b[39m# loop over all the actions of each state\u001b[39;00m\n\u001b[1;32m      6\u001b[0m     \u001b[39mfor\u001b[39;00m j, (action, q_values) \u001b[39min\u001b[39;00m \u001b[39menumerate\u001b[39m(actions\u001b[39m.\u001b[39mitems()):\n\u001b[0;32m----> 7\u001b[0m         plt\u001b[39m.\u001b[39;49msubplot(\u001b[39m2\u001b[39;49m, \u001b[39m4\u001b[39;49m, i\u001b[39m*\u001b[39;49m\u001b[39m4\u001b[39;49m \u001b[39m+\u001b[39;49m j \u001b[39m+\u001b[39;49m \u001b[39m1\u001b[39;49m)\n\u001b[1;32m      8\u001b[0m         xaxis \u001b[39m=\u001b[39m np\u001b[39m.\u001b[39masarray(\u001b[39mrange\u001b[39m(\u001b[39mlen\u001b[39m(q_values)))\n\u001b[1;32m      9\u001b[0m         plt\u001b[39m.\u001b[39mplot(xaxis, np\u001b[39m.\u001b[39masarray(q_values))\n",
      "File \u001b[0;32m/opt/homebrew/Caskroom/miniforge/base/envs/tensorflow/lib/python3.9/site-packages/matplotlib/pyplot.py:1264\u001b[0m, in \u001b[0;36msubplot\u001b[0;34m(*args, **kwargs)\u001b[0m\n\u001b[1;32m   1261\u001b[0m fig \u001b[39m=\u001b[39m gcf()\n\u001b[1;32m   1263\u001b[0m \u001b[39m# First, search for an existing subplot with a matching spec.\u001b[39;00m\n\u001b[0;32m-> 1264\u001b[0m key \u001b[39m=\u001b[39m SubplotSpec\u001b[39m.\u001b[39;49m_from_subplot_args(fig, args)\n\u001b[1;32m   1266\u001b[0m \u001b[39mfor\u001b[39;00m ax \u001b[39min\u001b[39;00m fig\u001b[39m.\u001b[39maxes:\n\u001b[1;32m   1267\u001b[0m     \u001b[39m# if we found an Axes at the position sort out if we can re-use it\u001b[39;00m\n\u001b[1;32m   1268\u001b[0m     \u001b[39mif\u001b[39;00m \u001b[39mhasattr\u001b[39m(ax, \u001b[39m'\u001b[39m\u001b[39mget_subplotspec\u001b[39m\u001b[39m'\u001b[39m) \u001b[39mand\u001b[39;00m ax\u001b[39m.\u001b[39mget_subplotspec() \u001b[39m==\u001b[39m key:\n\u001b[1;32m   1269\u001b[0m         \u001b[39m# if the user passed no kwargs, re-use\u001b[39;00m\n",
      "File \u001b[0;32m/opt/homebrew/Caskroom/miniforge/base/envs/tensorflow/lib/python3.9/site-packages/matplotlib/gridspec.py:612\u001b[0m, in \u001b[0;36mSubplotSpec._from_subplot_args\u001b[0;34m(figure, args)\u001b[0m\n\u001b[1;32m    610\u001b[0m \u001b[39melse\u001b[39;00m:\n\u001b[1;32m    611\u001b[0m     \u001b[39mif\u001b[39;00m \u001b[39mnot\u001b[39;00m \u001b[39misinstance\u001b[39m(num, Integral) \u001b[39mor\u001b[39;00m num \u001b[39m<\u001b[39m \u001b[39m1\u001b[39m \u001b[39mor\u001b[39;00m num \u001b[39m>\u001b[39m rows\u001b[39m*\u001b[39mcols:\n\u001b[0;32m--> 612\u001b[0m         \u001b[39mraise\u001b[39;00m \u001b[39mValueError\u001b[39;00m(\n\u001b[1;32m    613\u001b[0m             \u001b[39mf\u001b[39m\u001b[39m\"\u001b[39m\u001b[39mnum must be 1 <= num <= \u001b[39m\u001b[39m{\u001b[39;00mrows\u001b[39m*\u001b[39mcols\u001b[39m}\u001b[39;00m\u001b[39m, not \u001b[39m\u001b[39m{\u001b[39;00mnum\u001b[39m!r}\u001b[39;00m\u001b[39m\"\u001b[39m)\n\u001b[1;32m    614\u001b[0m     i \u001b[39m=\u001b[39m j \u001b[39m=\u001b[39m num\n\u001b[1;32m    615\u001b[0m \u001b[39mreturn\u001b[39;00m gs[i\u001b[39m-\u001b[39m\u001b[39m1\u001b[39m:j]\n",
      "\u001b[0;31mValueError\u001b[0m: num must be 1 <= num <= 8, not 9"
     ]
    },
    {
     "data": {
      "image/png": "[encoded data removed]",
      "text/plain": [
       "<Figure size 1600x700 with 2 Axes>"
      ]
     },
     "metadata": {},
     "output_type": "display_data"
    }
   ],
   "source": [
    "plt.figure(figsize=(16, 7))\n",
    "\n",
    "# loop over all the states in states_track dictionary\n",
    "for i, (state, actions) in enumerate(states_track.items()):\n",
    "    # loop over all the actions of each state\n",
    "    for j, (action, q_values) in enumerate(actions.items()):\n",
    "        plt.subplot(2, 4, i*4 + j + 1)\n",
    "        xaxis = np.asarray(range(len(q_values)))\n",
    "        plt.plot(xaxis, np.asarray(q_values))\n",
    "        plt.ylabel(\"Q-value\")\n",
    "        plt.title(f\"State: {state} \\n Action: {action}\")\n",
    "\n",
    "plt.show()\n"
   ]
  },
  {
   "cell_type": "code",
   "execution_count": null,
   "metadata": {},
   "outputs": [],
   "source": [
    "plt.figure(figsize=(16, 7))\n",
    "\n",
    "states_to_plot = [(3, 0, 2), (1, 6, 3), (2, 2, 2), (3, 10, 6), (0, 20, 3)]\n",
    "\n",
    "for i, state in enumerate(states_to_plot):\n",
    "    xaxis = np.asarray(range(500))\n",
    "    plt.subplot(2, 5, i+1)\n",
    "    plt.plot(xaxis, np.asarray(states_track[state][(3, 1)])[-500:])\n",
    "    plt.ylabel(\"Q-value\")\n",
    "\n",
    "plt.show()\n"
   ]
  },
  {
   "cell_type": "code",
   "execution_count": null,
   "metadata": {},
   "outputs": [],
   "source": []
  }
 ],
 "metadata": {
  "kernelspec": {
   "display_name": "tensorflow",
   "language": "python",
   "name": "python3"
  },
  "language_info": {
   "codemirror_mode": {
    "name": "ipython",
    "version": 3
   },
   "file_extension": ".py",
   "mimetype": "text/x-python",
   "name": "python",
   "nbconvert_exporter": "python",
   "pygments_lexer": "ipython3",
   "version": "3.9.13 | packaged by conda-forge | (main, May 27 2022, 17:01:00) \n[Clang 13.0.1 ]"
  },
  "orig_nbformat": 4,
  "vscode": {
   "interpreter": {
    "hash": "4bd624a0593993fe43ac4046b27b898fb2ef75c21c08f81e89e64ea0f51df676"
   }
  }
 },
 "nbformat": 4,
 "nbformat_minor": 2
}
